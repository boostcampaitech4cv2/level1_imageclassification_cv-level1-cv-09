{
 "cells": [
  {
   "cell_type": "code",
   "execution_count": 1,
   "id": "a835005b-f19b-48a4-87b6-ff2f8f6a04e1",
   "metadata": {},
   "outputs": [],
   "source": [
    "import os\n",
    "import sys\n",
    "from glob import glob\n",
    "import numpy as np\n",
    "import pandas as pd\n",
    "\n",
    "import cv2\n",
    "from PIL import Image\n",
    "from tqdm.notebook import tqdm\n",
    "from time import time\n",
    "\n",
    "import matplotlib.pyplot as plt\n",
    "import seaborn as sns\n",
    "import multiprocessing as mp"
   ]
  },
  {
   "cell_type": "code",
   "execution_count": 2,
   "id": "25532c11",
   "metadata": {},
   "outputs": [],
   "source": [
    "class cfg:\n",
    "    data_dir = '/opt/ml/input/data/train'  \n",
    "    img_dir = f'{data_dir}/images'\n",
    "    df_path = f'{data_dir}/train.csv'"
   ]
  },
  {
   "cell_type": "code",
   "execution_count": 3,
   "id": "58a29c2b",
   "metadata": {},
   "outputs": [
    {
     "data": {
      "text/html": [
       "<div>\n",
       "<style scoped>\n",
       "    .dataframe tbody tr th:only-of-type {\n",
       "        vertical-align: middle;\n",
       "    }\n",
       "\n",
       "    .dataframe tbody tr th {\n",
       "        vertical-align: top;\n",
       "    }\n",
       "\n",
       "    .dataframe thead th {\n",
       "        text-align: right;\n",
       "    }\n",
       "</style>\n",
       "<table border=\"1\" class=\"dataframe\">\n",
       "  <thead>\n",
       "    <tr style=\"text-align: right;\">\n",
       "      <th></th>\n",
       "      <th>id</th>\n",
       "      <th>gender</th>\n",
       "      <th>race</th>\n",
       "      <th>age</th>\n",
       "      <th>path</th>\n",
       "    </tr>\n",
       "  </thead>\n",
       "  <tbody>\n",
       "    <tr>\n",
       "      <th>0</th>\n",
       "      <td>000001</td>\n",
       "      <td>female</td>\n",
       "      <td>Asian</td>\n",
       "      <td>45</td>\n",
       "      <td>000001_female_Asian_45</td>\n",
       "    </tr>\n",
       "    <tr>\n",
       "      <th>1</th>\n",
       "      <td>000002</td>\n",
       "      <td>female</td>\n",
       "      <td>Asian</td>\n",
       "      <td>52</td>\n",
       "      <td>000002_female_Asian_52</td>\n",
       "    </tr>\n",
       "    <tr>\n",
       "      <th>2</th>\n",
       "      <td>000004</td>\n",
       "      <td>male</td>\n",
       "      <td>Asian</td>\n",
       "      <td>54</td>\n",
       "      <td>000004_male_Asian_54</td>\n",
       "    </tr>\n",
       "    <tr>\n",
       "      <th>3</th>\n",
       "      <td>000005</td>\n",
       "      <td>female</td>\n",
       "      <td>Asian</td>\n",
       "      <td>58</td>\n",
       "      <td>000005_female_Asian_58</td>\n",
       "    </tr>\n",
       "    <tr>\n",
       "      <th>4</th>\n",
       "      <td>000006</td>\n",
       "      <td>female</td>\n",
       "      <td>Asian</td>\n",
       "      <td>59</td>\n",
       "      <td>000006_female_Asian_59</td>\n",
       "    </tr>\n",
       "  </tbody>\n",
       "</table>\n",
       "</div>"
      ],
      "text/plain": [
       "       id  gender   race  age                    path\n",
       "0  000001  female  Asian   45  000001_female_Asian_45\n",
       "1  000002  female  Asian   52  000002_female_Asian_52\n",
       "2  000004    male  Asian   54    000004_male_Asian_54\n",
       "3  000005  female  Asian   58  000005_female_Asian_58\n",
       "4  000006  female  Asian   59  000006_female_Asian_59"
      ]
     },
     "execution_count": 3,
     "metadata": {},
     "output_type": "execute_result"
    }
   ],
   "source": [
    "num2class = ['incorrect_mask', 'mask1', 'mask2', 'mask3',\n",
    "             'mask4', 'mask5', 'normal']\n",
    "class2num = {k: v for v, k in enumerate(num2class)}\n",
    "\n",
    "df = pd.read_csv(cfg.df_path)\n",
    "df.head()"
   ]
  },
  {
   "cell_type": "code",
   "execution_count": 4,
   "id": "93936352",
   "metadata": {},
   "outputs": [],
   "source": [
    "def get_img_stats(img_dir, img_ids):\n",
    "    \"\"\"\n",
    "    데이터셋에 있는 이미지들의 크기와 RGB 평균 및 표준편차를 수집하는 함수입니다.\n",
    "    \n",
    "    Args:\n",
    "        img_dir: 학습 데이터셋 이미지 폴더 경로 \n",
    "        img_ids: 학습 데이터셋 하위폴더 이름들\n",
    "\n",
    "    Returns:\n",
    "        img_info: 이미지들의 정보 (크기, 평균, 표준편차)\n",
    "    \"\"\"\n",
    "    img_info = dict(heights=[], widths=[], means=[], stds=[])\n",
    "    for img_id in tqdm(img_ids):\n",
    "        for path in glob(os.path.join(img_dir, img_id, '*')):\n",
    "            img = np.array(Image.open(path))\n",
    "            h, w, _ = img.shape\n",
    "            img_info['heights'].append(h)\n",
    "            img_info['widths'].append(w)\n",
    "            img_info['means'].append(img.mean(axis=(0,1)))\n",
    "            img_info['stds'].append(img.std(axis=(0,1)))\n",
    "    return img_info"
   ]
  },
  {
   "cell_type": "code",
   "execution_count": 5,
   "id": "a8e1da02",
   "metadata": {},
   "outputs": [
    {
     "data": {
      "application/vnd.jupyter.widget-view+json": {
       "model_id": "727d37b86c384f8888a62bbd115476a1",
       "version_major": 2,
       "version_minor": 0
      },
      "text/plain": [
       "HBox(children=(HTML(value=''), FloatProgress(value=0.0), HTML(value='')))"
      ]
     },
     "metadata": {},
     "output_type": "display_data"
    },
    {
     "name": "stdout",
     "output_type": "stream",
     "text": [
      "\n",
      "Total number of people is 2700\n",
      "Total number of images is 18900\n",
      "Minimum height for dataset is 512\n",
      "Maximum height for dataset is 512\n",
      "Average height for dataset is 512\n",
      "Minimum width for dataset is 384\n",
      "Maximum width for dataset is 384\n",
      "Average width for dataset is 384\n",
      "RGB Mean: [0.55800916 0.51224077 0.47767341]\n",
      "RGB Standard Deviation: [0.21817792 0.23804603 0.25183411]\n"
     ]
    }
   ],
   "source": [
    "img_info = get_img_stats(cfg.img_dir, df.path.values[:100])\n",
    "\n",
    "print(f'Total number of people is {len(df)}')\n",
    "print(f'Total number of images is {len(df) * 7}')\n",
    "\n",
    "print(f'Minimum height for dataset is {np.min(img_info[\"heights\"])}')\n",
    "print(f'Maximum height for dataset is {np.max(img_info[\"heights\"])}')\n",
    "print(f'Average height for dataset is {int(np.mean(img_info[\"heights\"]))}')\n",
    "print(f'Minimum width for dataset is {np.min(img_info[\"widths\"])}')\n",
    "print(f'Maximum width for dataset is {np.max(img_info[\"widths\"])}')\n",
    "print(f'Average width for dataset is {int(np.mean(img_info[\"widths\"]))}')\n",
    "\n",
    "print(f'RGB Mean: {np.mean(img_info[\"means\"], axis=0) / 255.}')\n",
    "print(f'RGB Standard Deviation: {np.mean(img_info[\"stds\"], axis=0) / 255.}')"
   ]
  },
  {
   "cell_type": "code",
   "execution_count": 6,
   "id": "56f0a7fb-2dab-480f-8428-d4377c814698",
   "metadata": {},
   "outputs": [
    {
     "data": {
      "image/png": "[encoded data removed]",
      "text/plain": [
       "<Figure size 288x288 with 1 Axes>"
      ]
     },
     "metadata": {
      "needs_background": "light"
     },
     "output_type": "display_data"
    }
   ],
   "source": [
    "plt.figure(figsize=(4, 4)) \n",
    "ax = sns.countplot(x = 'gender', data = df, palette=[\"#F7CACA\", \"#93A9D1\"], width = 0.4)\n",
    "\n",
    "plt.xticks( np.arange(2), ['female', 'male'] )\n",
    "plt.title('Gender Ratio', fontsize= 14)\n",
    "plt.xlabel('')\n",
    "plt.ylabel('Number of images')\n",
    "\n",
    "counts = df['gender'].value_counts()\n",
    "counts_pct = [f'{elem * 100:.2f}%' for elem in counts / counts.sum()]\n",
    "\n",
    "for i, v in enumerate(counts_pct):\n",
    "    ax.text(i, 0, v, horizontalalignment = 'center', size = 10, color = 'w')\n",
    "    \n",
    "plt.show()"
   ]
  },
  {
   "cell_type": "code",
   "execution_count": 7,
   "id": "0971e4d1-4a60-46ce-be88-870e287c5725",
   "metadata": {},
   "outputs": [
    {
     "data": {
      "image/png": "[encoded data removed]",
      "text/plain": [
       "<Figure size 430.5x360 with 1 Axes>"
      ]
     },
     "metadata": {
      "needs_background": "light"
     },
     "output_type": "display_data"
    }
   ],
   "source": [
    "sns.displot(df, x= \"age\",\n",
    "            hue= \"gender\", \n",
    "            palette= [\"#F7CACA\", \"#93A9D1\"] ,\n",
    "            stat= \"density\",\n",
    "            multiple= 'stack',\n",
    "            bins= 10)\n",
    "\n",
    "plt.show()"
   ]
  },
  {
   "cell_type": "code",
   "execution_count": 8,
   "id": "f2f2df64-e703-4590-a9bc-6ebab593aa44",
   "metadata": {},
   "outputs": [
    {
     "data": {
      "text/plain": [
       "count    2700.000000\n",
       "mean       37.708148\n",
       "std        16.985904\n",
       "min        18.000000\n",
       "25%        20.000000\n",
       "50%        36.000000\n",
       "75%        55.000000\n",
       "max        60.000000\n",
       "Name: age, dtype: float64"
      ]
     },
     "execution_count": 8,
     "metadata": {},
     "output_type": "execute_result"
    }
   ],
   "source": [
    "df['age'].describe()"
   ]
  },
  {
   "cell_type": "code",
   "execution_count": 9,
   "id": "492352fd",
   "metadata": {},
   "outputs": [],
   "source": [
    "# print(df.iloc[100])"
   ]
  },
  {
   "cell_type": "code",
   "execution_count": 10,
   "id": "2b029444",
   "metadata": {},
   "outputs": [],
   "source": [
    "# print(min(df['age']))\n",
    "# print(max(df['age']))"
   ]
  },
  {
   "cell_type": "code",
   "execution_count": 11,
   "id": "7dd7ccde",
   "metadata": {},
   "outputs": [],
   "source": [
    "Female_Age = {\"~20\" : 0, \"20~29\" : 0, \"30~39\" : 0, \"40~49\" : 0, \"50~59\" : 0, \"60~\" : 0 }\n",
    "Male_Age = {\"~20\" : 0, \"20~29\" : 0, \"30~39\" : 0, \"40~49\" : 0, \"50~59\" : 0, \"60~\" : 0 }\n",
    "\n",
    "for idx in range(len(df)) :\n",
    "    person = df.iloc[idx]\n",
    "    if person['gender'] == 'female' :\n",
    "        if person['age'] <= 20 : Female_Age[\"~20\"] += 1\n",
    "        elif 20 < person['age'] < 30 : Female_Age[\"20~29\"] += 1\n",
    "        elif 30 < person['age'] < 40 : Female_Age[\"30~39\"] += 1\n",
    "        elif 40 < person['age'] < 50 : Female_Age[\"40~49\"] += 1\n",
    "        elif 50 < person['age'] < 60 : Female_Age[\"50~59\"] += 1\n",
    "        elif 60 <= person['age'] : Female_Age[\"60~\"] += 1\n",
    "    elif person['gender'] == 'male' :\n",
    "        if person['age'] <= 20 : Male_Age[\"~20\"] += 1\n",
    "        elif 20 < person['age'] < 30 : Male_Age[\"20~29\"] += 1\n",
    "        elif 30 < person['age'] < 40 : Male_Age[\"30~39\"] += 1\n",
    "        elif 40 < person['age'] < 50 : Male_Age[\"40~49\"] += 1\n",
    "        elif 50 < person['age'] < 60 : Male_Age[\"50~59\"] += 1\n",
    "        elif 60 <= person['age'] : Male_Age[\"60~\"] += 1\n"
   ]
  },
  {
   "cell_type": "code",
   "execution_count": 23,
   "id": "f0eef555",
   "metadata": {},
   "outputs": [
    {
     "data": {
      "image/png": "[encoded data removed]",
      "text/plain": [
       "<Figure size 720x288 with 2 Axes>"
      ]
     },
     "metadata": {
      "needs_background": "light"
     },
     "output_type": "display_data"
    }
   ],
   "source": [
    "fig, axs = plt.subplots(ncols=2, sharey=True, figsize=(10, 4), gridspec_kw={\"wspace\":0})\n",
    "\n",
    "female = np.array((\"~20\", \"20~29\", \"30~39\", \"40~49\", \"50~59\", \"60~\"))\n",
    "female_values = list(Female_Age.values())\n",
    "axs[0].barh(female, female_values, color=\"#F7CACA\", height = 0.5)\n",
    "\n",
    "male = np.array((\"~20\", \"20~29\", \"30~39\", \"40~49\", \"50~59\", \"60~\"))\n",
    "male_values = list(Male_Age.values())\n",
    "axs[1].barh(male, male_values, color=\"#93A9D1\", height = 0.5)\n",
    "\n",
    "xmax = 800\n",
    "axs[0].set_xlim(xmax, 0)\n",
    "axs[1].set_xlim(0, xmax)\n",
    "\n",
    "for ax in axs:\n",
    "    for i, p in enumerate(ax.patches):\n",
    "        w = p.get_width()\n",
    "        if ax == axs[0]:\n",
    "            ha = \"right\"\n",
    "        else:\n",
    "            ha = \"left\"\n",
    "        \n",
    "        ax.text(w, i, f\" {format(w, ',')} \", \n",
    "                fontsize=10, va=\"center\", ha=ha, \n",
    "                fontweight=\"bold\", alpha=0.5)\n",
    "\n",
    "plt.show()"
   ]
  },
  {
   "cell_type": "code",
   "execution_count": 13,
   "id": "507a3a9b-4e6d-47f0-a018-37196320377f",
   "metadata": {},
   "outputs": [],
   "source": [
    "face_cascade = cv2.CascadeClassifier(cv2.data.haarcascades + 'haarcascade_frontalface_default.xml')\n",
    "# print(face_cascade.empty())"
   ]
  },
  {
   "cell_type": "code",
   "execution_count": 14,
   "id": "597e12fb",
   "metadata": {},
   "outputs": [],
   "source": [
    "image_file = {'incorrect_mask' : 0,\n",
    "             'mask1' : 0,\n",
    "             'mask2' : 0,\n",
    "             'mask3' : 0,\n",
    "             'mask4' : 0,\n",
    "             'mask5' : 0,\n",
    "             'normal' : 0}"
   ]
  },
  {
   "cell_type": "code",
   "execution_count": 15,
   "id": "d63f0997",
   "metadata": {},
   "outputs": [
    {
     "name": "stdout",
     "output_type": "stream",
     "text": [
      "진행도: 0 / 2700\n",
      "진행도: 200 / 2700\n",
      "진행도: 400 / 2700\n",
      "진행도: 600 / 2700\n",
      "진행도: 800 / 2700\n",
      "진행도: 1000 / 2700\n",
      "진행도: 1200 / 2700\n",
      "진행도: 1400 / 2700\n",
      "진행도: 1600 / 2700\n",
      "진행도: 1800 / 2700\n",
      "진행도: 2000 / 2700\n",
      "진행도: 2200 / 2700\n",
      "진행도: 2400 / 2700\n",
      "/opt/ml/input/data/train/images 006578_male_Asian_19 incorrect_mask.jpg\n",
      "/opt/ml/input/data/train/images 006578_male_Asian_19 mask5.jpeg\n",
      "/opt/ml/input/data/train/images 006580_female_Asian_20 incorrect_mask.jpg\n",
      "/opt/ml/input/data/train/images 006580_female_Asian_20 mask5.jpeg\n",
      "/opt/ml/input/data/train/images 006582_female_Asian_20 incorrect_mask.jpg\n",
      "/opt/ml/input/data/train/images 006582_female_Asian_20 mask5.jpeg\n",
      "/opt/ml/input/data/train/images 006584_female_Asian_20 incorrect_mask.jpg\n",
      "/opt/ml/input/data/train/images 006584_female_Asian_20 mask5.jpeg\n",
      "/opt/ml/input/data/train/images 006589_female_Asian_20 incorrect_mask.jpg\n",
      "/opt/ml/input/data/train/images 006589_female_Asian_20 mask5.jpeg\n",
      "/opt/ml/input/data/train/images 006626_male_Asian_19 mask1.jpeg\n",
      "/opt/ml/input/data/train/images 006626_male_Asian_19 mask5.jpg\n",
      "/opt/ml/input/data/train/images 006643_male_Asian_19 mask1.jpeg\n",
      "/opt/ml/input/data/train/images 006643_male_Asian_19 mask5.jpg\n",
      "진행도: 2600 / 2700\n",
      "\n",
      "Unclassified images:  6350\n"
     ]
    }
   ],
   "source": [
    "imgs = []\n",
    "bboxes = []\n",
    "file_extension = {}\n",
    "sum_not_founded = 0\n",
    "\n",
    "for x in range(len(df)) :\n",
    "    img_id = df.iloc[x].path\n",
    "    filename = os.listdir(os.path.join(cfg.img_dir, img_id))\n",
    "    \n",
    "#     ext = get_ext(cfg.img_dir, img_id)\n",
    "\n",
    "    for i, class_id in enumerate(num2class):\n",
    "        try :\n",
    "            ext = os.path.splitext(filename[i])[-1]\n",
    "            if ext not in file_extension.keys() :\n",
    "                file_extension[ext] = 1\n",
    "            else :\n",
    "                file_extension[ext] += 1\n",
    "            img = np.array(Image.open(os.path.join(cfg.img_dir, img_id, class_id+ext)))\n",
    "            bbox = face_cascade.detectMultiScale(img)\n",
    "            imgs.append(img)\n",
    "            if len(bbox) != 0:\n",
    "                bboxes.append(bbox.max(axis=0))\n",
    "            else:\n",
    "                image_file[class_id] += 1\n",
    "        except : \n",
    "            print(cfg.img_dir, img_id, class_id+ext)\n",
    "        \n",
    "    if x % 200 == 0 : print(\"진행도:\", x, \"/\", len(df))\n",
    "print()\n",
    "\n",
    "for _, class_id in enumerate(num2class) :\n",
    "    sum_not_founded += image_file[class_id]\n",
    "    \n",
    "print(\"Unclassified images: \", sum_not_founded)"
   ]
  },
  {
   "cell_type": "code",
   "execution_count": 25,
   "id": "9431a712",
   "metadata": {},
   "outputs": [
    {
     "name": "stdout",
     "output_type": "stream",
     "text": [
      "{'.jpg': 18035, '.png': 511, '.jpeg': 354}\n"
     ]
    }
   ],
   "source": [
    "print(file_extension)"
   ]
  },
  {
   "cell_type": "code",
   "execution_count": 16,
   "id": "a6ad8e74",
   "metadata": {},
   "outputs": [
    {
     "name": "stdout",
     "output_type": "stream",
     "text": [
      "detection rate: 33.6%\n",
      "incorrect_mask: 36.74%(992)\n",
      "mask1: 44.33%(1197)\n",
      "mask2: 29.85%(806)\n",
      "mask3: 47.7%(1288)\n",
      "mask4: 34.56%(933)\n",
      "mask5: 41.52%(1121)\n",
      "normal: 0.48%(13)\n"
     ]
    }
   ],
   "source": [
    "rate = round(sum_not_founded / 189, 2)\n",
    "print(f\"detection rate: {rate}%\")\n",
    "\n",
    "for class_id in image_file.keys() :\n",
    "    rate = round(image_file[class_id] / 27, 2)\n",
    "    print(f\"{class_id}: {rate}%({image_file[class_id]})\")"
   ]
  },
  {
   "cell_type": "code",
   "execution_count": 20,
   "id": "a336ced0",
   "metadata": {},
   "outputs": [
    {
     "data": {
      "image/png": "[encoded data removed]",
      "text/plain": [
       "<Figure size 432x288 with 1 Axes>"
      ]
     },
     "metadata": {
      "needs_background": "light"
     },
     "output_type": "display_data"
    }
   ],
   "source": [
    "x = np.arange(7)\n",
    "keys = list(image_file.keys())\n",
    "values = list(image_file.values())\n",
    "colors = [\"#FF6F61\", \"#E2583E\", \"#F0C05A\", \"#88B04B\", \"#7BC4C4\", \"#9BB7D4\", \"#AD5E99\"]\n",
    "\n",
    "plt.bar(x, values, width=0.8, color = colors)\n",
    "plt.xticks(x, keys)\n",
    "\n",
    "plt.show()"
   ]
  }
 ],
 "metadata": {
  "kernelspec": {
   "display_name": "Python 3 (ipykernel)",
   "language": "python",
   "name": "python3"
  },
  "language_info": {
   "codemirror_mode": {
    "name": "ipython",
    "version": 3
   },
   "file_extension": ".py",
   "mimetype": "text/x-python",
   "name": "python",
   "nbconvert_exporter": "python",
   "pygments_lexer": "ipython3",
   "version": "3.8.5"
  },
  "vscode": {
   "interpreter": {
    "hash": "d4d1e4263499bec80672ea0156c357c1ee493ec2b1c70f0acce89fc37c4a6abe"
   }
  }
 },
 "nbformat": 4,
 "nbformat_minor": 5
}
